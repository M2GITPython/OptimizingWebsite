{
 "cells": [
  {
   "cell_type": "code",
   "execution_count": 1,
   "id": "cdf550f8",
   "metadata": {},
   "outputs": [],
   "source": [
    "import matplotlib.pyplot as plt"
   ]
  },
  {
   "cell_type": "code",
   "execution_count": 2,
   "id": "31dc1249",
   "metadata": {},
   "outputs": [
    {
     "name": "stdout",
     "output_type": "stream",
     "text": [
      "Requirement already satisfied: numpy in /Library/Frameworks/Python.framework/Versions/3.10/lib/python3.10/site-packages (1.22.3)\n",
      "Note: you may need to restart the kernel to use updated packages.\n"
     ]
    }
   ],
   "source": [
    "pip install numpy"
   ]
  },
  {
   "cell_type": "code",
   "execution_count": 3,
   "id": "cf28919f",
   "metadata": {},
   "outputs": [
    {
     "name": "stdout",
     "output_type": "stream",
     "text": [
      "Requirement already satisfied: pandas in /Library/Frameworks/Python.framework/Versions/3.10/lib/python3.10/site-packages (1.4.2)\n",
      "Requirement already satisfied: numpy>=1.21.0 in /Library/Frameworks/Python.framework/Versions/3.10/lib/python3.10/site-packages (from pandas) (1.22.3)\n",
      "Requirement already satisfied: pytz>=2020.1 in /Library/Frameworks/Python.framework/Versions/3.10/lib/python3.10/site-packages (from pandas) (2022.1)\n",
      "Requirement already satisfied: python-dateutil>=2.8.1 in /Library/Frameworks/Python.framework/Versions/3.10/lib/python3.10/site-packages (from pandas) (2.8.2)\n",
      "Requirement already satisfied: six>=1.5 in /Library/Frameworks/Python.framework/Versions/3.10/lib/python3.10/site-packages (from python-dateutil>=2.8.1->pandas) (1.16.0)\n",
      "Note: you may need to restart the kernel to use updated packages.\n"
     ]
    }
   ],
   "source": [
    "pip install pandas"
   ]
  },
  {
   "cell_type": "code",
   "execution_count": 11,
   "id": "0788ab40",
   "metadata": {},
   "outputs": [],
   "source": [
    "import random\n",
    "import numpy as np\n",
    "\n",
    "class Bandit:\n",
    "    def __init__(self, K=2, probs=None):\n",
    "        self.K = K\n",
    "        if probs is None:\n",
    "            self.probs = [\n",
    "                random.random() for _ in range(self.K)\n",
    "            ]\n",
    "        else:\n",
    "            assert len(probs) == K\n",
    "            self.probs = probs\n",
    "\n",
    "        self.best_probs = max(self.probs)\n",
    "\n",
    "    def play(self, i):\n",
    "        if random.random() < self.probs[i]:\n",
    "            return 1\n",
    "        else:\n",
    "            return 0"
   ]
  },
  {
   "cell_type": "code",
   "execution_count": 12,
   "id": "f7ea4723",
   "metadata": {},
   "outputs": [],
   "source": [
    "class Agent:\n",
    "    def __init__(self, env):\n",
    "        self.env = env\n",
    "        self.listeners = {}\n",
    "        self.metrics = {}\n",
    "        self.reset()\n",
    "        \n",
    "    def reset(self):\n",
    "        for k in self.metrics:\n",
    "            self.metrics[k] = []\n",
    "\n",
    "    def add_listener(self, name, fun):\n",
    "        self.listeners[name] = fun\n",
    "        self.metrics[name] = []\n",
    "    \n",
    "    def run_metrics(self, i):\n",
    "        for key, fun in self.listeners.items():\n",
    "            fun(self, i, key)\n",
    "\n",
    "    def run_one_step(self):\n",
    "        raise NotImplementedError\n",
    "        \n",
    "    def run(self, n_steps):\n",
    "        raise NotImplementedError"
   ]
  },
  {
   "cell_type": "code",
   "execution_count": 13,
   "id": "0a3ef959",
   "metadata": {},
   "outputs": [],
   "source": [
    "class UCB1(Agent):\n",
    "    def __init__(self, env, alpha=2.):\n",
    "        self.alpha = alpha\n",
    "        super(UCB1, self).__init__(env)\n",
    "    \n",
    "    def run_exploration(self):\n",
    "        for i in range(self.env.K):\n",
    "            self.estimates[i] = self.env.play(i)\n",
    "            self.counts[i] += 1\n",
    "            self.history.append(i)\n",
    "            self.run_metrics(i)            \n",
    "            self.t += 1\n",
    "    \n",
    "    def update_estimate(self, i, r):\n",
    "        self.estimates[i] += (r - self.estimates[i]) / (self.counts[i] + 1)\n",
    "\n",
    "    def reset(self):\n",
    "        self.history = []\n",
    "        self.t = 0\n",
    "        self.counts = [0] * self.env.K\n",
    "        self.estimates = [None] * self.env.K\n",
    "        super(UCB1, self).reset()\n",
    "    \n",
    "    def run(self, n_steps):\n",
    "        assert self.env is not None\n",
    "        self.reset()\n",
    "        if self.estimates[0] is None:\n",
    "            self.run_exploration()\n",
    "        for _ in range(n_steps):\n",
    "            i = self.run_one_step()\n",
    "            self.counts[i] += 1\n",
    "            self.history.append(i)\n",
    "            self.run_metrics(i)\n",
    "\n",
    "    def upper_bound(self, i):\n",
    "        return np.sqrt(\n",
    "            self.alpha * np.log(self.t) / (1 + self.counts[i])\n",
    "        )\n",
    "   \n",
    "    def run_one_step(self):\n",
    "        i = max(\n",
    "            range(self.env.K),\n",
    "            key=lambda i: self.estimates[i] + self.upper_bound(i)\n",
    "        )\n",
    "        r = self.env.play(i)\n",
    "        self.update_estimate(i, r)\n",
    "        self.t += 1\n",
    "        return i"
   ]
  },
  {
   "cell_type": "code",
   "execution_count": 14,
   "id": "a2416f98",
   "metadata": {},
   "outputs": [],
   "source": [
    "from scipy import stats\n",
    "\n",
    "def update_regret(agent, i, key):\n",
    "    regret = agent.env.best_probs - agent.env.probs[i]\n",
    "    if agent.metrics[key]:\n",
    "        agent.metrics[key].append(\n",
    "            agent.metrics[key][-1] + regret\n",
    "        )\n",
    "    else:\n",
    "        agent.metrics[key] = [regret]\n",
    "        \n",
    "def update_rank_corr(agent, i, key):\n",
    "    if agent.t < agent.env.K:\n",
    "        agent.metrics[key].append(0.0)\n",
    "    else:\n",
    "        agent.metrics[key].append(\n",
    "            stats.spearmanr(agent.env.probs, agent.estimates)[0]\n",
    "        )"
   ]
  },
  {
   "cell_type": "code",
   "execution_count": 15,
   "id": "18a3b1f9",
   "metadata": {},
   "outputs": [],
   "source": [
    "%matplotlib inline\n",
    "import pandas as pd\n",
    "import matplotlib.pyplot as plt\n",
    "\n",
    "\n",
    "def plot_stats(title):\n",
    "    df = pd.DataFrame(agent.metrics)\n",
    "    df['t'] = list(range(len(df)))\n",
    "    ax = df.plot(x='t', y='regret', legend=False)\n",
    "    ax2 = ax.twinx()\n",
    "    ax.spines['left'].set_color('b')\n",
    "    ax.spines['left'].set_linewidth(1.5)\n",
    "    ax.tick_params(axis='y', colors='b')\n",
    "\n",
    "    df.plot(x='t', y='corr', ax=ax2, legend=False, color=\"r\")\n",
    "    ax.spines['right'].set_color('r')\n",
    "    ax.spines['right'].set_linewidth(1.5)\n",
    "    ax2.tick_params(axis='y', colors='r')\n",
    "\n",
    "    ax.figure.legend(loc='center', bbox_to_anchor=(0.7, 0.5))\n",
    "    plt.title(title)"
   ]
  },
  {
   "cell_type": "code",
   "execution_count": 16,
   "id": "f451b19e",
   "metadata": {},
   "outputs": [
    {
     "data": {
      "image/png": "[encoded data removed]",
      "text/plain": [
       "<Figure size 432x288 with 2 Axes>"
      ]
     },
     "metadata": {
      "needs_background": "light"
     },
     "output_type": "display_data"
    }
   ],
   "source": [
    "random.seed(42.0)  # int(time.time())\n",
    "bandit = Bandit(20)\n",
    "agent = UCB1(bandit, alpha=2.0)\n",
    "agent.add_listener('regret', update_regret)\n",
    "agent.add_listener('corr', update_rank_corr)\n",
    "agent.run(5000)\n",
    "plot_stats('alpha=2.0')"
   ]
  },
  {
   "cell_type": "code",
   "execution_count": 17,
   "id": "c6dcb41f",
   "metadata": {},
   "outputs": [
    {
     "name": "stdout",
     "output_type": "stream",
     "text": [
      "Requirement already satisfied: matplotlib in /Library/Frameworks/Python.framework/Versions/3.10/lib/python3.10/site-packages (3.5.1)\n",
      "Requirement already satisfied: packaging>=20.0 in /Library/Frameworks/Python.framework/Versions/3.10/lib/python3.10/site-packages (from matplotlib) (21.3)\n",
      "Requirement already satisfied: pillow>=6.2.0 in /Library/Frameworks/Python.framework/Versions/3.10/lib/python3.10/site-packages (from matplotlib) (9.1.0)\n",
      "Requirement already satisfied: fonttools>=4.22.0 in /Library/Frameworks/Python.framework/Versions/3.10/lib/python3.10/site-packages (from matplotlib) (4.32.0)\n",
      "Requirement already satisfied: pyparsing>=2.2.1 in /Library/Frameworks/Python.framework/Versions/3.10/lib/python3.10/site-packages (from matplotlib) (3.0.8)\n",
      "Requirement already satisfied: python-dateutil>=2.7 in /Library/Frameworks/Python.framework/Versions/3.10/lib/python3.10/site-packages (from matplotlib) (2.8.2)\n",
      "Requirement already satisfied: kiwisolver>=1.0.1 in /Library/Frameworks/Python.framework/Versions/3.10/lib/python3.10/site-packages (from matplotlib) (1.4.2)\n",
      "Requirement already satisfied: cycler>=0.10 in /Library/Frameworks/Python.framework/Versions/3.10/lib/python3.10/site-packages (from matplotlib) (0.11.0)\n",
      "Requirement already satisfied: numpy>=1.17 in /Library/Frameworks/Python.framework/Versions/3.10/lib/python3.10/site-packages (from matplotlib) (1.22.3)\n",
      "Requirement already satisfied: six>=1.5 in /Library/Frameworks/Python.framework/Versions/3.10/lib/python3.10/site-packages (from python-dateutil>=2.7->matplotlib) (1.16.0)\n"
     ]
    }
   ],
   "source": [
    "!pip3 install matplotlib"
   ]
  },
  {
   "cell_type": "code",
   "execution_count": 18,
   "id": "a6984e97",
   "metadata": {},
   "outputs": [
    {
     "data": {
      "image/png": "[encoded data removed]",
      "text/plain": [
       "<Figure size 432x288 with 2 Axes>"
      ]
     },
     "metadata": {
      "needs_background": "light"
     },
     "output_type": "display_data"
    }
   ],
   "source": [
    "random.seed(42.0)  # int(time.time())\n",
    "bandit = Bandit(20)\n",
    "agent = UCB1(bandit, alpha=0.5)\n",
    "agent.add_listener('regret', update_regret)\n",
    "agent.add_listener('corr', update_rank_corr)\n",
    "agent.run(5000)\n",
    "plot_stats('alpha=0.5')"
   ]
  },
  {
   "cell_type": "code",
   "execution_count": null,
   "id": "0375c30a",
   "metadata": {},
   "outputs": [],
   "source": []
  }
 ],
 "metadata": {
  "kernelspec": {
   "display_name": "Python 3 (ipykernel)",
   "language": "python",
   "name": "python3"
  },
  "language_info": {
   "codemirror_mode": {
    "name": "ipython",
    "version": 3
   },
   "file_extension": ".py",
   "mimetype": "text/x-python",
   "name": "python",
   "nbconvert_exporter": "python",
   "pygments_lexer": "ipython3",
   "version": "3.10.4"
  }
 },
 "nbformat": 4,
 "nbformat_minor": 5
}
